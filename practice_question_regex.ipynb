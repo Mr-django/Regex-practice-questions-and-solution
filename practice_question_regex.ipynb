{
 "cells": [
  {
   "cell_type": "code",
   "execution_count": 5,
   "metadata": {},
   "outputs": [
    {
     "data": {
      "text/plain": [
       "['john.doe@example.com', 'shubham99singh11@gmail.com']"
      ]
     },
     "execution_count": 5,
     "metadata": {},
     "output_type": "execute_result"
    }
   ],
   "source": [
    "import re\n",
    "## Extract all email addresses\n",
    "\n",
    "text = \"\"\"\n",
    "Hello! My name is John Doe, and my email address is john.doe@example.com. and his friend email is shubham99singh11@gmail.com\n",
    "Feel free to contact me on my personal number: 123-456-7890 or at work: (987) 654-3210.\n",
    "My website is http://johndoe.dev, and you can also check my blog at https://blog.johndoe.com/posts.\n",
    "I was born on 15/08/1990, and I currently live in New York City, USA.\n",
    "My postal code is NY 10001. Let's meet at 5:30 PM tomorrow!\n",
    "\"\"\"\n",
    "pattern = '[a-z0-9.]+@[a-z]+.[a-z]+'\n",
    "re.findall(pattern, text)\n",
    "\n",
    "\n"
   ]
  },
  {
   "cell_type": "code",
   "execution_count": 8,
   "metadata": {},
   "outputs": [
    {
     "data": {
      "text/plain": [
       "[('', '123-456-7890'), ('(987) 654-3210', '')]"
      ]
     },
     "execution_count": 8,
     "metadata": {},
     "output_type": "execute_result"
    }
   ],
   "source": [
    "# Extract phone numbers \n",
    "\n",
    "pattern = '(\\(\\d{3}\\) \\d{3}-\\d{4})|(\\d{3}-\\d{3}-\\d{4})'\n",
    "matches = re.findall(pattern, text)\n",
    "matches\n",
    "\n"
   ]
  },
  {
   "cell_type": "code",
   "execution_count": 9,
   "metadata": {},
   "outputs": [
    {
     "data": {
      "text/plain": [
       "['https://blog.johndoe.com/posts']"
      ]
     },
     "execution_count": 9,
     "metadata": {},
     "output_type": "execute_result"
    }
   ],
   "source": [
    "#Extract URLs\n",
    "\n",
    "pattern = 'https://[a-z]+.[a-z]+.[a-z]+/[a-zA-Z0-9!@#$%^&*?]+'\n",
    "matches = re.findall(pattern, text)\n",
    "matches"
   ]
  },
  {
   "cell_type": "code",
   "execution_count": 13,
   "metadata": {},
   "outputs": [
    {
     "name": "stdout",
     "output_type": "stream",
     "text": [
      "['15/08/1990']\n"
     ]
    },
    {
     "data": {
      "text/plain": [
       "['5:30']"
      ]
     },
     "execution_count": 13,
     "metadata": {},
     "output_type": "execute_result"
    }
   ],
   "source": [
    "# Find all dates and time\n",
    "pattern1 = '\\d{2}/\\d{2}/\\d{4}'\n",
    "pattern2 = '\\d:\\d{2}'\n",
    "matches_dates = re.findall(pattern1, text)\n",
    "matches_time = re.findall(pattern2, text)\n",
    "print(matches_dates)\n",
    "matches_time\n",
    "\n",
    "\n"
   ]
  },
  {
   "cell_type": "code",
   "execution_count": 14,
   "metadata": {},
   "outputs": [
    {
     "data": {
      "text/plain": [
       "['NY 10001']"
      ]
     },
     "execution_count": 14,
     "metadata": {},
     "output_type": "execute_result"
    }
   ],
   "source": [
    "#extract postal code\n",
    "pattern = '[A-Z]+ \\d{5}'\n",
    "re.findall(pattern, text)"
   ]
  },
  {
   "cell_type": "code",
   "execution_count": 15,
   "metadata": {},
   "outputs": [
    {
     "data": {
      "text/plain": [
       "['Hello',\n",
       " 'My',\n",
       " 'John',\n",
       " 'Doe',\n",
       " 'Feel',\n",
       " 'My',\n",
       " 'New',\n",
       " 'York',\n",
       " 'City',\n",
       " 'My',\n",
       " 'Let']"
      ]
     },
     "execution_count": 15,
     "metadata": {},
     "output_type": "execute_result"
    }
   ],
   "source": [
    "# Extract word that are start with ccapital letter\n",
    "pattern = '[A-Z][a-z]+'\n",
    "re.findall(pattern, text)"
   ]
  },
  {
   "cell_type": "code",
   "execution_count": 16,
   "metadata": {},
   "outputs": [
    {
     "data": {
      "text/plain": [
       "['New York']"
      ]
     },
     "execution_count": 16,
     "metadata": {},
     "output_type": "execute_result"
    }
   ],
   "source": [
    "#extract City name \n",
    "pattern = 'live in ([A-Z][a-z]+ [A-Z][a-z]+)'\n",
    "re.findall(pattern, text)\n"
   ]
  },
  {
   "cell_type": "code",
   "execution_count": 21,
   "metadata": {},
   "outputs": [
    {
     "data": {
      "text/plain": [
       "['name',\n",
       " 'John',\n",
       " 'john',\n",
       " 'Feel',\n",
       " 'free',\n",
       " '7890',\n",
       " 'work',\n",
       " '3210',\n",
       " 'http',\n",
       " 'also',\n",
       " 'blog',\n",
       " 'blog',\n",
       " 'born',\n",
       " '1990',\n",
       " 'live',\n",
       " 'York',\n",
       " 'City',\n",
       " 'code',\n",
       " 'meet']"
      ]
     },
     "execution_count": 21,
     "metadata": {},
     "output_type": "execute_result"
    }
   ],
   "source": [
    "# extract the word form the twxt that are exactly with 4 charectors\n",
    "text =  \"\"\"\n",
    "Hello! My name is John Doe, and my email address is john.doe@example.com. and his friend email is shubham99singh11@gmail.com\n",
    "Feel free to contact me on my personal number: 123-456-7890 or at work: (987) 654-3210.\n",
    "My website is http://johndoe.dev, and you can also check my blog at https://blog.johndoe.com/posts.\n",
    "I was born on 15/08/1990, and I currently live in New York City, USA.\n",
    "My postal code is NY 10001. Let's meet at 5:30 PM tomorrow!\n",
    "\"\"\"\n",
    "pattern = r\"\\b\\w{4}\\b\"\n",
    "words = re.findall(pattern, text)\n",
    "words"
   ]
  },
  {
   "cell_type": "code",
   "execution_count": 22,
   "metadata": {},
   "outputs": [
    {
     "data": {
      "text/plain": [
       "['and his friend email is shubham99singh11@',\n",
       " 'com\\nFeel free to contact me on my personal number: 123-456-7890 or at work: (987) 654-3210.',\n",
       " 'I was born on 15/08/1990,',\n",
       " 'My postal code is NY 10001.',\n",
       " \"Let's meet at 5:30 \"]"
      ]
     },
     "execution_count": 22,
     "metadata": {},
     "output_type": "execute_result"
    }
   ],
   "source": [
    "#Find sentences containing numbers\n",
    "#Extract sentences that contain one or more numbers.\n",
    "pattern = '[A-Za-z][^.?!]*\\d[^.?!][.?!]*'\n",
    "re.findall(pattern, text)\n"
   ]
  },
  {
   "cell_type": "code",
   "execution_count": null,
   "metadata": {},
   "outputs": [],
   "source": [
    "\n"
   ]
  },
  {
   "cell_type": "code",
   "execution_count": null,
   "metadata": {},
   "outputs": [],
   "source": []
  }
 ],
 "metadata": {
  "kernelspec": {
   "display_name": "Python 3",
   "language": "python",
   "name": "python3"
  },
  "language_info": {
   "codemirror_mode": {
    "name": "ipython",
    "version": 3
   },
   "file_extension": ".py",
   "mimetype": "text/x-python",
   "name": "python",
   "nbconvert_exporter": "python",
   "pygments_lexer": "ipython3",
   "version": "3.11.9"
  }
 },
 "nbformat": 4,
 "nbformat_minor": 2
}
